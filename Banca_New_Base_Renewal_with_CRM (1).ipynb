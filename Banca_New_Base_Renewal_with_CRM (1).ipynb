{
 "cells": [
  {
   "cell_type": "code",
   "execution_count": 258,
   "id": "ce0f554b",
   "metadata": {},
   "outputs": [],
   "source": [
    "\n",
    "import pandas as pd\n",
    "import numpy as np\n",
    "import matplotlib.pyplot as plt\n",
    "from warnings import filterwarnings\n",
    "filterwarnings(action='ignore')\n",
    "\n",
    "# import boto3,os\n",
    "# import sagemaker \n",
    "# from sagemaker import get_execution_role\n",
    "# from sagemaker.amazon.amazon_estimator import get_image_uri\n",
    "# from sagemaker.predictor import csv_serializer"
   ]
  },
  {
   "cell_type": "code",
   "execution_count": 259,
   "id": "b270266c",
   "metadata": {},
   "outputs": [],
   "source": [
    "d1=pd.read_csv('NEW_BASE_WITH_CRM.csv')"
   ]
  },
  {
   "cell_type": "code",
   "execution_count": 260,
   "id": "7637e4eb",
   "metadata": {},
   "outputs": [],
   "source": [
    "# from sagemaker.amazon import amazon_estimator"
   ]
  },
  {
   "cell_type": "code",
   "execution_count": 261,
   "id": "49303eb1",
   "metadata": {},
   "outputs": [],
   "source": [
    "#import data from S3\n",
    "# role=get_execution_role()\n",
    "# d1=pd.read_csv('s3://{}/{}'.format('care-prod-actuarial-sandbox', 'ria/Banca_Renewal_Model_Data/BANCA_NEW_BASE_SANTOSH_WITH_CRM.csv'))"
   ]
  },
  {
   "cell_type": "code",
   "execution_count": 262,
   "id": "9683408d",
   "metadata": {},
   "outputs": [],
   "source": [
    "d1['if_crm']=d1['crm_data']"
   ]
  },
  {
   "cell_type": "code",
   "execution_count": 263,
   "id": "9c3b9c0a",
   "metadata": {},
   "outputs": [],
   "source": [
    "d=d1.loc[:,[ 'CHDRNUM', 'Polic_Start_Date', 'Policy_End_Date',\n",
    "       'Final_Renewal1', 'GWP', 'Cover_type',\n",
    "        'Owner_Covered', 'No_of_exposure',\n",
    "       'Product_Desc', 'CLNTAGE', 'RIDESC', 'NBCATG',\n",
    "       'Loading_Status',\n",
    "        'HHCKFLG', 'HHCK_Cancelled', 'HHCK_Outstanding',\n",
    "       'CareClassic_Zone', 'HHCK_Paid_Closed', 'Any_Rider', 'Ageband',\n",
    "       'HHCK_Partially_Paid', 'IPDCLAIM', 'Risk_Type', 'Final_SI',\n",
    "       'HHCK_Rejected','Policy_Related_flg', 'Claim_Related_flg', 'Renewal_Related_flg',\n",
    "       'Health_Checkup_flg',\n",
    "       'Enquiry_flg', 'Request_flg', 'if_crm']]"
   ]
  },
  {
   "cell_type": "code",
   "execution_count": 264,
   "id": "c933c424",
   "metadata": {},
   "outputs": [],
   "source": [
    "d['Calender_Month'] = pd.to_datetime(d['Policy_End_Date']).dt.month"
   ]
  },
  {
   "cell_type": "markdown",
   "id": "49984410",
   "metadata": {},
   "source": [
    "#### Feature Engineering"
   ]
  },
  {
   "cell_type": "code",
   "execution_count": 265,
   "id": "666cbe28",
   "metadata": {},
   "outputs": [],
   "source": [
    "col=['HHCK_Cancelled','HHCK_Paid_Closed','HHCK_Rejected','HHCK_Partially_Paid','HHCK_Outstanding']\n",
    "for i in col:\n",
    "    d[i]=np.where(d[i]=='HHCK',1,0)"
   ]
  },
  {
   "cell_type": "code",
   "execution_count": 266,
   "id": "c0ba03d1",
   "metadata": {},
   "outputs": [],
   "source": [
    "d['HHCK_FINAL'] = d.HHCK_Paid_Closed + d.HHCK_Partially_Paid + d.HHCK_Outstanding\n",
    "d['HHCK_rejected'] = d.HHCK_Cancelled + d.HHCK_Rejected\n",
    "\n",
    "d['HHCK_FINAL'] = np.where(d.HHCK_FINAL>=1,1,0)\n",
    "d['HHCK_rejected'] = np.where(d.HHCK_rejected >=1, 1,0)\n",
    "\n",
    "d['Owner_Covered'] = np.where(d.Owner_Covered=='Y',1,0)\n",
    "d['NBCATG'] = np.where(d.NBCATG=='NEW BUSINESS',1,0)\n",
    "\n",
    "d['siBin'] = np.where(d.Final_SI<500000,1,\n",
    "                       np.where(d.Final_SI==500000,2,3))"
   ]
  },
  {
   "cell_type": "code",
   "execution_count": 267,
   "id": "c27ff039",
   "metadata": {},
   "outputs": [],
   "source": [
    "d.drop(columns=['HHCK_Outstanding', 'HHCK_Cancelled', 'HHCK_Paid_Closed','HHCK_Rejected',\n",
    "               'HHCK_Partially_Paid','Owner_Covered','Policy_End_Date'],axis=1,inplace=True)"
   ]
  },
  {
   "cell_type": "code",
   "execution_count": 268,
   "id": "ad85e0e7",
   "metadata": {},
   "outputs": [],
   "source": [
    "d=d.dropna()"
   ]
  },
  {
   "cell_type": "code",
   "execution_count": 269,
   "id": "912ca37e",
   "metadata": {},
   "outputs": [
    {
     "data": {
      "text/plain": [
       "(170923, 29)"
      ]
     },
     "execution_count": 269,
     "metadata": {},
     "output_type": "execute_result"
    }
   ],
   "source": [
    "d.shape"
   ]
  },
  {
   "cell_type": "code",
   "execution_count": 270,
   "id": "bd291229",
   "metadata": {},
   "outputs": [],
   "source": [
    "ind=d[d['GWP']<=10].index"
   ]
  },
  {
   "cell_type": "code",
   "execution_count": 271,
   "id": "7b58d6f4",
   "metadata": {},
   "outputs": [],
   "source": [
    "d.drop(ind,axis=0,inplace=True)"
   ]
  },
  {
   "cell_type": "code",
   "execution_count": 272,
   "id": "a93c52f6",
   "metadata": {},
   "outputs": [
    {
     "data": {
      "text/plain": [
       "(5156, 29)"
      ]
     },
     "execution_count": 272,
     "metadata": {},
     "output_type": "execute_result"
    }
   ],
   "source": [
    "d[d['GWP']<=d['GWP'].quantile(q=0.03)].shape"
   ]
  },
  {
   "cell_type": "code",
   "execution_count": 273,
   "id": "2c989acc",
   "metadata": {},
   "outputs": [
    {
     "data": {
      "text/plain": [
       "25209.0"
      ]
     },
     "execution_count": 273,
     "metadata": {},
     "output_type": "execute_result"
    }
   ],
   "source": [
    "d['GWP'].quantile(q=0.965)"
   ]
  },
  {
   "cell_type": "code",
   "execution_count": 274,
   "id": "910cd2b9",
   "metadata": {},
   "outputs": [],
   "source": [
    "d['gwpBin']= np.where(d.GWP <= d['GWP'].quantile(q=0.02), 1,\n",
    "                                np.where(d.GWP <=d['GWP'].quantile(q=0.25),2,\n",
    "                                  np.where(d.GWP <=d['GWP'].quantile(q=0.5),3,  \n",
    "                                np.where(d.GWP <=d['GWP'].quantile(q=0.75),4,\n",
    "                                np.where(d.GWP <=d['GWP'].quantile(q=0.965),5 ,6\n",
    "                                  )))))"
   ]
  },
  {
   "cell_type": "code",
   "execution_count": 275,
   "id": "fb60b820",
   "metadata": {},
   "outputs": [
    {
     "data": {
      "text/plain": [
       "4    25.093322\n",
       "3    24.975134\n",
       "2    22.975883\n",
       "5    21.360450\n",
       "6     3.498836\n",
       "1     2.096376\n",
       "Name: gwpBin, dtype: float64"
      ]
     },
     "execution_count": 275,
     "metadata": {},
     "output_type": "execute_result"
    }
   ],
   "source": [
    "d['gwpBin'].value_counts(normalize=True)*100"
   ]
  },
  {
   "cell_type": "code",
   "execution_count": 276,
   "id": "dfb46e35",
   "metadata": {},
   "outputs": [
    {
     "data": {
      "text/html": [
       "<div>\n",
       "<style scoped>\n",
       "    .dataframe tbody tr th:only-of-type {\n",
       "        vertical-align: middle;\n",
       "    }\n",
       "\n",
       "    .dataframe tbody tr th {\n",
       "        vertical-align: top;\n",
       "    }\n",
       "\n",
       "    .dataframe thead th {\n",
       "        text-align: right;\n",
       "    }\n",
       "</style>\n",
       "<table border=\"1\" class=\"dataframe\">\n",
       "  <thead>\n",
       "    <tr style=\"text-align: right;\">\n",
       "      <th>Final_Renewal1</th>\n",
       "      <th>0</th>\n",
       "      <th>1</th>\n",
       "    </tr>\n",
       "    <tr>\n",
       "      <th>gwpBin</th>\n",
       "      <th></th>\n",
       "      <th></th>\n",
       "    </tr>\n",
       "  </thead>\n",
       "  <tbody>\n",
       "    <tr>\n",
       "      <th>1</th>\n",
       "      <td>0.316215</td>\n",
       "      <td>0.683785</td>\n",
       "    </tr>\n",
       "    <tr>\n",
       "      <th>2</th>\n",
       "      <td>0.635794</td>\n",
       "      <td>0.364206</td>\n",
       "    </tr>\n",
       "    <tr>\n",
       "      <th>3</th>\n",
       "      <td>0.493979</td>\n",
       "      <td>0.506021</td>\n",
       "    </tr>\n",
       "    <tr>\n",
       "      <th>4</th>\n",
       "      <td>0.434877</td>\n",
       "      <td>0.565123</td>\n",
       "    </tr>\n",
       "    <tr>\n",
       "      <th>5</th>\n",
       "      <td>0.329900</td>\n",
       "      <td>0.670100</td>\n",
       "    </tr>\n",
       "    <tr>\n",
       "      <th>6</th>\n",
       "      <td>0.403846</td>\n",
       "      <td>0.596154</td>\n",
       "    </tr>\n",
       "    <tr>\n",
       "      <th>All</th>\n",
       "      <td>0.469804</td>\n",
       "      <td>0.530196</td>\n",
       "    </tr>\n",
       "  </tbody>\n",
       "</table>\n",
       "</div>"
      ],
      "text/plain": [
       "Final_Renewal1         0         1\n",
       "gwpBin                            \n",
       "1               0.316215  0.683785\n",
       "2               0.635794  0.364206\n",
       "3               0.493979  0.506021\n",
       "4               0.434877  0.565123\n",
       "5               0.329900  0.670100\n",
       "6               0.403846  0.596154\n",
       "All             0.469804  0.530196"
      ]
     },
     "execution_count": 276,
     "metadata": {},
     "output_type": "execute_result"
    }
   ],
   "source": [
    "pd.crosstab(d['gwpBin'],d['Final_Renewal1'],margins=True,normalize='index')"
   ]
  },
  {
   "cell_type": "code",
   "execution_count": 277,
   "id": "5a9a2128",
   "metadata": {},
   "outputs": [],
   "source": [
    "#function to change bins to RIDESC\n",
    "\n",
    "Pvt_Bank=['INDUS BANK LTD','RBLK BANK LIMITED']\n",
    "Psu_bank=['Royal National Bank Ltd','KINGDOM BANK']\n",
    "global Pvt_Bank,Psu_bank\n",
    "def fl(i):\n",
    "    if i in Pvt_Bank:\n",
    "        return 'Pvt_Bank'\n",
    "    elif i in Psu_bank:\n",
    "        return 'Psu_bank'\n",
    "    else:\n",
    "        return 'Others'"
   ]
  },
  {
   "cell_type": "code",
   "execution_count": 278,
   "id": "6aa854f9",
   "metadata": {},
   "outputs": [],
   "source": [
    "d['RIDESC']=d['RIDESC'].apply(fl)"
   ]
  },
  {
   "cell_type": "code",
   "execution_count": 279,
   "id": "9b56f4bf",
   "metadata": {},
   "outputs": [],
   "source": [
    "#function to change bins in IPDClaim\n",
    "def m(xf):\n",
    "    if xf <=0:\n",
    "        return 0\n",
    "    else:\n",
    "        return 1"
   ]
  },
  {
   "cell_type": "code",
   "execution_count": 280,
   "id": "b64a4505",
   "metadata": {},
   "outputs": [],
   "source": [
    "d['IPDCLAIM']=d['IPDCLAIM'].apply(m)"
   ]
  },
  {
   "cell_type": "code",
   "execution_count": 281,
   "id": "d2fe0c26",
   "metadata": {},
   "outputs": [],
   "source": [
    "#function to change bins in Product Desc\n",
    "c=['Cust GR Care','Group Care 360']\n",
    "f=['Retail ']\n",
    "global c,d\n",
    "def prm(x):\n",
    "    if x in c:\n",
    "        return 'Group Care 360'\n",
    "    elif x in f:\n",
    "        return 'Care'\n",
    "    else:\n",
    "        return 'Others'"
   ]
  },
  {
   "cell_type": "code",
   "execution_count": 282,
   "id": "c5d18117",
   "metadata": {},
   "outputs": [],
   "source": [
    "d['Product_Desc']=d['Product_Desc'].apply(prm)"
   ]
  },
  {
   "cell_type": "code",
   "execution_count": 283,
   "id": "45e17a90",
   "metadata": {},
   "outputs": [],
   "source": [
    "#function to change floatercombination\n",
    "ci=['00 - 18 Years','18 - 24 Years']\n",
    "pi=['51 - 55 Years','56 - 60 Years','46 - 50 Years']\n",
    "di=['61 - 65 Years','66 - 70 Years','71 - 75 Years','Above 75 Years']\n",
    "by=['36 - 40 Years','41 - 45 Years']\n",
    "li=['25 - 35 Years']\n",
    "global ci,di,pi,by,li\n",
    "def fli(i):\n",
    "    if i in ci:\n",
    "        return 1\n",
    "    elif i in pi:\n",
    "        return 4\n",
    "    elif i in di:\n",
    "        return 5\n",
    "    elif i in by:\n",
    "        return 3\n",
    "    elif i in li:\n",
    "        return 2\n",
    "    else:\n",
    "        return 6"
   ]
  },
  {
   "cell_type": "code",
   "execution_count": 284,
   "id": "e59ad409",
   "metadata": {},
   "outputs": [],
   "source": [
    "d['Ageband']=d['Ageband'].apply(fli)"
   ]
  },
  {
   "cell_type": "code",
   "execution_count": 285,
   "id": "8f3f9c63",
   "metadata": {},
   "outputs": [],
   "source": [
    "d['Calender_Month'].replace(to_replace=[2,3,7,8,9,10,11],value=2,inplace=True)\n",
    "d['Calender_Month'].replace(to_replace=[4,6],value=4,inplace=True)"
   ]
  },
  {
   "cell_type": "markdown",
   "id": "9c7a7d41",
   "metadata": {},
   "source": [
    "Dropping columns due to heavy correlation"
   ]
  },
  {
   "cell_type": "code",
   "execution_count": 286,
   "id": "f30dd46b",
   "metadata": {},
   "outputs": [],
   "source": [
    "d.drop(columns=['Policy_Related_flg','Enquiry_flg','Request_flg'],inplace=True, axis=1)"
   ]
  },
  {
   "cell_type": "code",
   "execution_count": 287,
   "id": "4d622681",
   "metadata": {},
   "outputs": [
    {
     "data": {
      "text/plain": [
       "(170914, 27)"
      ]
     },
     "execution_count": 287,
     "metadata": {},
     "output_type": "execute_result"
    }
   ],
   "source": [
    "d.shape"
   ]
  },
  {
   "cell_type": "code",
   "execution_count": 288,
   "id": "c525a33b",
   "metadata": {},
   "outputs": [],
   "source": [
    "mod_df=d.copy()"
   ]
  },
  {
   "cell_type": "code",
   "execution_count": 289,
   "id": "e40020a3",
   "metadata": {},
   "outputs": [],
   "source": [
    "df_cat=mod_df.select_dtypes(['object'])\n",
    "df_num=mod_df.select_dtypes(['int64','float64'])"
   ]
  },
  {
   "cell_type": "code",
   "execution_count": 290,
   "id": "f9b08d36",
   "metadata": {},
   "outputs": [],
   "source": [
    "mod_df=pd.get_dummies(mod_df,columns=[ 'Product_Desc', 'RIDESC',\n",
    "       'CareClassic_Zone','Cover_type'\n",
    "       ],drop_first=True)"
   ]
  },
  {
   "cell_type": "code",
   "execution_count": 291,
   "id": "c89d27ff",
   "metadata": {},
   "outputs": [],
   "source": [
    "mod_df.drop(columns=['Polic_Start_Date','CHDRNUM','GWP', 'Final_SI',\n",
    "        'Loading_Status','CLNTAGE', 'HHCKFLG','HHCK_rejected','Risk_Type'],inplace=True,axis=1)"
   ]
  },
  {
   "cell_type": "code",
   "execution_count": 292,
   "id": "849d1cbf",
   "metadata": {},
   "outputs": [],
   "source": [
    "mod_df.drop(columns=[\n",
    " 'No_of_exposure',\n",
    " 'Any_Rider','Cover_type_MF',\n",
    "    'Claim_Related_flg',\n",
    " 'Health_Checkup_flg'\n",
    "    ],inplace=True,axis=1)"
   ]
  },
  {
   "cell_type": "code",
   "execution_count": 293,
   "id": "1b4d852f",
   "metadata": {},
   "outputs": [
    {
     "data": {
      "text/plain": [
       "(170914, 17)"
      ]
     },
     "execution_count": 293,
     "metadata": {},
     "output_type": "execute_result"
    }
   ],
   "source": [
    "mod_df.shape"
   ]
  },
  {
   "cell_type": "code",
   "execution_count": 294,
   "id": "3d800372",
   "metadata": {},
   "outputs": [
    {
     "data": {
      "text/plain": [
       "Index(['Final_Renewal1', 'NBCATG', 'Ageband', 'IPDCLAIM',\n",
       "       'Renewal_Related_flg', 'if_crm', 'Calender_Month', 'HHCK_FINAL',\n",
       "       'siBin', 'gwpBin', 'Product_Desc_Group Care 360', 'Product_Desc_Others',\n",
       "       'RIDESC_Psu_bank', 'RIDESC_Pvt_Bank', 'CareClassic_Zone_Zone 2',\n",
       "       'CareClassic_Zone_Zone 3', 'Cover_type_IN'],\n",
       "      dtype='object')"
      ]
     },
     "execution_count": 294,
     "metadata": {},
     "output_type": "execute_result"
    }
   ],
   "source": [
    "mod_df.columns"
   ]
  },
  {
   "cell_type": "markdown",
   "id": "b75d2d22",
   "metadata": {},
   "source": [
    "# MODEL BUILDING"
   ]
  },
  {
   "cell_type": "code",
   "execution_count": 295,
   "id": "2c72750c",
   "metadata": {},
   "outputs": [],
   "source": [
    "X=mod_df.drop('Final_Renewal1',axis=1)\n",
    "Y1=mod_df.pop('Final_Renewal1')\n",
    "Y=pd.DataFrame(Y1,columns=['Final_Renewal1'])"
   ]
  },
  {
   "cell_type": "code",
   "execution_count": 296,
   "id": "85387fb7",
   "metadata": {},
   "outputs": [],
   "source": [
    "from sklearn.model_selection import train_test_split\n",
    "X_train,X_test,Y_train,Y_test=train_test_split(X, Y,train_size=0.80,random_state=31,shuffle=True)"
   ]
  },
  {
   "cell_type": "code",
   "execution_count": 297,
   "id": "90092f6c",
   "metadata": {},
   "outputs": [
    {
     "data": {
      "text/html": [
       "<style>#sk-container-id-1 {color: black;background-color: white;}#sk-container-id-1 pre{padding: 0;}#sk-container-id-1 div.sk-toggleable {background-color: white;}#sk-container-id-1 label.sk-toggleable__label {cursor: pointer;display: block;width: 100%;margin-bottom: 0;padding: 0.3em;box-sizing: border-box;text-align: center;}#sk-container-id-1 label.sk-toggleable__label-arrow:before {content: \"▸\";float: left;margin-right: 0.25em;color: #696969;}#sk-container-id-1 label.sk-toggleable__label-arrow:hover:before {color: black;}#sk-container-id-1 div.sk-estimator:hover label.sk-toggleable__label-arrow:before {color: black;}#sk-container-id-1 div.sk-toggleable__content {max-height: 0;max-width: 0;overflow: hidden;text-align: left;background-color: #f0f8ff;}#sk-container-id-1 div.sk-toggleable__content pre {margin: 0.2em;color: black;border-radius: 0.25em;background-color: #f0f8ff;}#sk-container-id-1 input.sk-toggleable__control:checked~div.sk-toggleable__content {max-height: 200px;max-width: 100%;overflow: auto;}#sk-container-id-1 input.sk-toggleable__control:checked~label.sk-toggleable__label-arrow:before {content: \"▾\";}#sk-container-id-1 div.sk-estimator input.sk-toggleable__control:checked~label.sk-toggleable__label {background-color: #d4ebff;}#sk-container-id-1 div.sk-label input.sk-toggleable__control:checked~label.sk-toggleable__label {background-color: #d4ebff;}#sk-container-id-1 input.sk-hidden--visually {border: 0;clip: rect(1px 1px 1px 1px);clip: rect(1px, 1px, 1px, 1px);height: 1px;margin: -1px;overflow: hidden;padding: 0;position: absolute;width: 1px;}#sk-container-id-1 div.sk-estimator {font-family: monospace;background-color: #f0f8ff;border: 1px dotted black;border-radius: 0.25em;box-sizing: border-box;margin-bottom: 0.5em;}#sk-container-id-1 div.sk-estimator:hover {background-color: #d4ebff;}#sk-container-id-1 div.sk-parallel-item::after {content: \"\";width: 100%;border-bottom: 1px solid gray;flex-grow: 1;}#sk-container-id-1 div.sk-label:hover label.sk-toggleable__label {background-color: #d4ebff;}#sk-container-id-1 div.sk-serial::before {content: \"\";position: absolute;border-left: 1px solid gray;box-sizing: border-box;top: 0;bottom: 0;left: 50%;z-index: 0;}#sk-container-id-1 div.sk-serial {display: flex;flex-direction: column;align-items: center;background-color: white;padding-right: 0.2em;padding-left: 0.2em;position: relative;}#sk-container-id-1 div.sk-item {position: relative;z-index: 1;}#sk-container-id-1 div.sk-parallel {display: flex;align-items: stretch;justify-content: center;background-color: white;position: relative;}#sk-container-id-1 div.sk-item::before, #sk-container-id-1 div.sk-parallel-item::before {content: \"\";position: absolute;border-left: 1px solid gray;box-sizing: border-box;top: 0;bottom: 0;left: 50%;z-index: -1;}#sk-container-id-1 div.sk-parallel-item {display: flex;flex-direction: column;z-index: 1;position: relative;background-color: white;}#sk-container-id-1 div.sk-parallel-item:first-child::after {align-self: flex-end;width: 50%;}#sk-container-id-1 div.sk-parallel-item:last-child::after {align-self: flex-start;width: 50%;}#sk-container-id-1 div.sk-parallel-item:only-child::after {width: 0;}#sk-container-id-1 div.sk-dashed-wrapped {border: 1px dashed gray;margin: 0 0.4em 0.5em 0.4em;box-sizing: border-box;padding-bottom: 0.4em;background-color: white;}#sk-container-id-1 div.sk-label label {font-family: monospace;font-weight: bold;display: inline-block;line-height: 1.2em;}#sk-container-id-1 div.sk-label-container {text-align: center;}#sk-container-id-1 div.sk-container {/* jupyter's `normalize.less` sets `[hidden] { display: none; }` but bootstrap.min.css set `[hidden] { display: none !important; }` so we also need the `!important` here to be able to override the default hidden behavior on the sphinx rendered scikit-learn.org. See: https://github.com/scikit-learn/scikit-learn/issues/21755 */display: inline-block !important;position: relative;}#sk-container-id-1 div.sk-text-repr-fallback {display: none;}</style><div id=\"sk-container-id-1\" class=\"sk-top-container\"><div class=\"sk-text-repr-fallback\"><pre>RandomForestClassifier(n_estimators=500)</pre><b>In a Jupyter environment, please rerun this cell to show the HTML representation or trust the notebook. <br />On GitHub, the HTML representation is unable to render, please try loading this page with nbviewer.org.</b></div><div class=\"sk-container\" hidden><div class=\"sk-item\"><div class=\"sk-estimator sk-toggleable\"><input class=\"sk-toggleable__control sk-hidden--visually\" id=\"sk-estimator-id-1\" type=\"checkbox\" checked><label for=\"sk-estimator-id-1\" class=\"sk-toggleable__label sk-toggleable__label-arrow\">RandomForestClassifier</label><div class=\"sk-toggleable__content\"><pre>RandomForestClassifier(n_estimators=500)</pre></div></div></div></div></div>"
      ],
      "text/plain": [
       "RandomForestClassifier(n_estimators=500)"
      ]
     },
     "execution_count": 297,
     "metadata": {},
     "output_type": "execute_result"
    }
   ],
   "source": [
    "from sklearn.ensemble import RandomForestClassifier\n",
    "XGModel1=RandomForestClassifier(n_estimators=500)\n",
    "XGModel1.fit(X_train, Y_train)"
   ]
  },
  {
   "cell_type": "code",
   "execution_count": null,
   "id": "9e3345c7",
   "metadata": {},
   "outputs": [],
   "source": [
    "#PUSHING MODEL ARTIFACTS TO S3\n",
    "# import pickle\n",
    "# bucket='care-prod-actuarial-sandbox'\n",
    "# s3 = boto3.client('s3')\n",
    "# prefix = \"ria/Banca_Renewal_Model_Data/\"+'Bancamodel.pkl'\n",
    "# s3.put_object(Bucket=bucket, Key=prefix, Body=pickle.dumps(XGModel1))"
   ]
  },
  {
   "cell_type": "markdown",
   "id": "c1a83ece",
   "metadata": {},
   "source": [
    "**Model Evaluation**"
   ]
  },
  {
   "cell_type": "code",
   "execution_count": 298,
   "id": "bb12ab7f",
   "metadata": {},
   "outputs": [
    {
     "name": "stdout",
     "output_type": "stream",
     "text": [
      "0.7355\n",
      "Accuracy:  0.6956\n",
      "***********************************\n",
      "0.7352071451103686\n",
      "ROC_AUC_Score:  0.695\n",
      "***********************************\n",
      "              precision    recall  f1-score   support\n",
      "\n",
      "           0       0.67      0.69      0.68     16069\n",
      "           1       0.72      0.70      0.71     18114\n",
      "\n",
      "    accuracy                           0.70     34183\n",
      "   macro avg       0.69      0.69      0.69     34183\n",
      "weighted avg       0.70      0.70      0.70     34183\n",
      "\n"
     ]
    }
   ],
   "source": [
    "from sklearn.metrics import classification_report,roc_auc_score,roc_curve\n",
    "print(round(XGModel1.score(X_train,Y_train),4))\n",
    "print('Accuracy: ',round(XGModel1.score(X_test,Y_test),4))\n",
    "print('***********************************')\n",
    "print(roc_auc_score(Y_train,XGModel1.predict(X_train)))\n",
    "print('ROC_AUC_Score: ',round(roc_auc_score(Y_test,XGModel1.predict(X_test)),4))\n",
    "print('***********************************')\n",
    "print(classification_report(Y_test,XGModel1.predict(X_test)))\n",
    "# plot_confusion_matrix(XGModel1, X_test, Y_test,values_format = 'd')"
   ]
  },
  {
   "cell_type": "markdown",
   "id": "90b412b1",
   "metadata": {},
   "source": [
    "**Decile Analysis**"
   ]
  },
  {
   "cell_type": "code",
   "execution_count": 299,
   "id": "b14ebc01",
   "metadata": {},
   "outputs": [],
   "source": [
    "#df with probabilities scores-\n",
    "\n",
    "test_pred=pd.DataFrame(XGModel1.predict_proba(X_test),index=X_test.index, columns=['score0','score1'])\n",
    "\n",
    "X_test1=X_test.copy()\n",
    "df_=d.copy()\n",
    "\n",
    "X_test1['index'] = X_test.index\n",
    "df_['index'] = d.index\n",
    "\n",
    "X_test1['train_test'] = 0\n",
    "\n",
    "X_test1['score1'] = test_pred['score1']\n",
    "\n",
    "d2_new = df_.merge(X_test1[['train_test','index','score1']],on='index',how='left')\n",
    "d2_new1 = d2_new[d2_new.train_test==0]\n",
    "d2_new1['Decile_rank'] = pd.qcut(d2_new1['score1'], 10,\n",
    "                                       labels = False,duplicates='drop')"
   ]
  },
  {
   "cell_type": "code",
   "execution_count": 300,
   "id": "0dbb3e51",
   "metadata": {},
   "outputs": [],
   "source": [
    "# create a list of our conditions\n",
    "conditions = [\n",
    "    (d2_new1['Decile_rank'] < 6),\n",
    "    (d2_new1['Decile_rank'] >= 6) & (d2_new1['Decile_rank'] <= 7),\n",
    "    (d2_new1['Decile_rank'] > 7)\n",
    "    ]\n",
    "\n",
    "# create a list of the values we want to assign for each condition\n",
    "values = ['Worst_Renewal', 'Good_Renewal', 'Excellent_Renewal']\n",
    "\n",
    "# create a new column and use np.select to assign values to it using our lists as arguments\n",
    "d2_new1['Performance_Category'] = np.select(conditions, values)\n",
    "\n",
    "# display updated DataFrame\n",
    "# d2_new1.head()"
   ]
  },
  {
   "cell_type": "code",
   "execution_count": null,
   "id": "7f8566f9",
   "metadata": {},
   "outputs": [],
   "source": [
    "# pushing the results to S3\n",
    "# d2_new1.to_csv('New_Base_withCRM_results.csv')\n",
    "\n",
    "# prefix='ria/Banca_Renewal_Model_Data/'\n",
    "# bucket='care-prod-actuarial-sandbox'\n",
    "# boto3.Session().resource('s3').Bucket(bucket).Object(os.path.join(prefix, 'New_Base_withCRM_results.csv')).upload_file('New_Base_withCRM_results.csv')"
   ]
  },
  {
   "cell_type": "code",
   "execution_count": null,
   "id": "a59de90f",
   "metadata": {},
   "outputs": [],
   "source": [
    "# import seaborn as sns\n",
    "# # fig.set_size_inches(15,7)\n",
    "# sns.scatterplot(x='score1',y='Decile_rank',data=d2_new1)\n",
    "# plt.xticks(np.arange(0,1,0.1))\n",
    "# plt.yticks(np.arange(0,10,1))\n",
    "# plt.show()\n",
    "\n",
    "\n",
    "# ct=pd.crosstab(d2_new1.Final_Renewal1,d2_new1.Decile_rank,margins=False).T\n",
    "# ct"
   ]
  },
  {
   "cell_type": "code",
   "execution_count": null,
   "id": "b8f710e0",
   "metadata": {},
   "outputs": [],
   "source": [
    "# # abc=(XRModel1.coef_[0])\n",
    "# abc=XGModel1.feature_importances_\n",
    "# xyz=X_train.columns\n",
    "# abc1 = pd.concat([pd.Series(abc),pd.Series(xyz)], axis=1)\n",
    "# abc1.columns = ['importance', 'varname']\n",
    "# abc1=abc1.sort_values(by='importance',ascending=False)\n",
    "# abc1['%age']=abc1['importance'].cumsum()\n",
    "# # xyz\n",
    "# abc1"
   ]
  },
  {
   "cell_type": "code",
   "execution_count": 301,
   "id": "e6673fa9",
   "metadata": {},
   "outputs": [],
   "source": [
    "import pickle\n",
    "pickle.dump(XGModel1, open('Renewal_Model_updated.pkl', 'wb'))"
   ]
  }
 ],
 "metadata": {
  "kernelspec": {
   "display_name": "Python 3",
   "language": "python",
   "name": "python3"
  },
  "language_info": {
   "codemirror_mode": {
    "name": "ipython",
    "version": 3
   },
   "file_extension": ".py",
   "mimetype": "text/x-python",
   "name": "python",
   "nbconvert_exporter": "python",
   "pygments_lexer": "ipython3",
   "version": "3.8.8"
  }
 },
 "nbformat": 4,
 "nbformat_minor": 5
}
